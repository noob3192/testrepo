{
 "cells": [
  {
   "cell_type": "markdown",
   "id": "d0f85a19-982a-4e08-b730-daf92aa47fbb",
   "metadata": {},
   "source": [
    "#Data Science Tools and Ecosystem#"
   ]
  },
  {
   "cell_type": "markdown",
   "id": "acf890c6-debd-4969-81b9-ca08046d935e",
   "metadata": {},
   "source": [
    "In this notebook, Data Science Tools and ecosystem are summarized."
   ]
  },
  {
   "cell_type": "markdown",
   "id": "3aa5ba7e-41b5-4fbd-bcaa-f49742fbdacd",
   "metadata": {},
   "source": [
    "Objectives: Create a new Jupyter Notebook,Insert code and markdown cells,Share your notebook through GitHub"
   ]
  },
  {
   "cell_type": "markdown",
   "id": "a9d80e28-1ec3-4e5e-bd16-3e07fdd1e58c",
   "metadata": {},
   "source": [
    "Some of the popular languages that Data Scientists use are :\n",
    "1.Python 2.R 3.C++"
   ]
  },
  {
   "cell_type": "markdown",
   "id": "453c4b1f-e831-4fcb-96c4-3314bb7647ac",
   "metadata": {},
   "source": [
    "Some of the commonly used libraries that Data Scientists use include:\n",
    "1.Pandas 2.ggplot 3.Numpy"
   ]
  },
  {
   "cell_type": "markdown",
   "id": "ed4d8d29-23fc-4730-a536-385740e2181d",
   "metadata": {
    "tags": []
   },
   "source": [
    "| Data Science Tools|\n",
    "|------------------|\n",
    "|ApacheSpark|\n",
    "|ApacheHadoop|\n",
    "|Tensorflow|"
   ]
  },
  {
   "cell_type": "code",
   "execution_count": 4,
   "id": "e9b99630-5a41-4ec4-b7f9-07343ff0aca3",
   "metadata": {
    "tags": []
   },
   "outputs": [],
   "source": [
    "###Below are a few examples of evaluating arithmetic expressions in Python###"
   ]
  },
  {
   "cell_type": "markdown",
   "id": "74a090b3-dc8f-4201-a814-2d361e5242cd",
   "metadata": {},
   "source": [
    "print(2-3+5)\n",
    "print(2+5%4)"
   ]
  },
  {
   "cell_type": "code",
   "execution_count": 5,
   "id": "b1e6395d-44c6-4be0-bb8b-f1c3f499a66f",
   "metadata": {
    "tags": []
   },
   "outputs": [],
   "source": [
    "#This is a simple arithmetic expression to multiply then add integers."
   ]
  },
  {
   "cell_type": "code",
   "execution_count": 6,
   "id": "12262eb8-2b55-46dc-84d3-30d1e72e3c83",
   "metadata": {
    "tags": []
   },
   "outputs": [
    {
     "data": {
      "text/plain": [
       "17"
      ]
     },
     "execution_count": 6,
     "metadata": {},
     "output_type": "execute_result"
    }
   ],
   "source": [
    "(3*4)+5"
   ]
  },
  {
   "cell_type": "code",
   "execution_count": 7,
   "id": "91a6c1ae-4874-44aa-a71c-66c6a8b8c37f",
   "metadata": {
    "tags": []
   },
   "outputs": [],
   "source": [
    "#This will convert 200 mintutes to hours by dividing by 60."
   ]
  },
  {
   "cell_type": "code",
   "execution_count": 8,
   "id": "0ae78aa8-fdc7-4200-bfda-6563d6414fda",
   "metadata": {
    "tags": []
   },
   "outputs": [
    {
     "data": {
      "text/plain": [
       "3.3333333333333335"
      ]
     },
     "execution_count": 8,
     "metadata": {},
     "output_type": "execute_result"
    }
   ],
   "source": [
    "(200/60)"
   ]
  },
  {
   "cell_type": "markdown",
   "id": "6aac0d0a-c823-4eff-9eb8-532c55358bee",
   "metadata": {},
   "source": [
    "__Objectives__:-List popular languages used in Data Science -List Data Science Tools"
   ]
  },
  {
   "cell_type": "markdown",
   "id": "e1366860-f6c8-48c3-b7da-902ee5a97259",
   "metadata": {},
   "source": [
    "##Author##"
   ]
  },
  {
   "cell_type": "markdown",
   "id": "2984c6af-847b-4d9e-ac71-785c856461c8",
   "metadata": {},
   "source": [
    "Ali Eren Şevran"
   ]
  },
  {
   "cell_type": "code",
   "execution_count": null,
   "id": "346ded08-5f05-4edf-9b00-366aa8f8853b",
   "metadata": {},
   "outputs": [],
   "source": []
  }
 ],
 "metadata": {
  "kernelspec": {
   "display_name": "Python 3 (ipykernel)",
   "language": "python",
   "name": "python3"
  },
  "language_info": {
   "codemirror_mode": {
    "name": "ipython",
    "version": 3
   },
   "file_extension": ".py",
   "mimetype": "text/x-python",
   "name": "python",
   "nbconvert_exporter": "python",
   "pygments_lexer": "ipython3",
   "version": "3.11.5"
  }
 },
 "nbformat": 4,
 "nbformat_minor": 5
}
